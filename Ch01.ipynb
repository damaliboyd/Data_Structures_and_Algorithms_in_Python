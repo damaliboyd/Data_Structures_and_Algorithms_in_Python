{
 "cells": [
  {
   "cell_type": "markdown",
   "metadata": {},
   "source": [
    "# Chapter 1: Python Primer"
   ]
  },
  {
   "cell_type": "code",
   "execution_count": null,
   "metadata": {},
   "outputs": [],
   "source": [
    "# Code Fragment 1.1: A python program that computes a grade-point average (GPA).\n",
    "\n",
    "print('Welcome to the GPA Calculator.')\n",
    "print('Please enter all your letter grades, one per line.')\n",
    "print('Enter a blank line to designate the end.')\n",
    "\n",
    "# OR\n",
    "\n",
    "'''\n",
    "print(”””Welcome to the GPA calculator.\n",
    "Please enter all your letter grades, one per line.\n",
    "Enter a blank line to designate the end.”””)\n",
    "'''\n",
    "\n",
    "\n",
    "# map from letter grade to letter point value\n",
    "points = { \"A+\" :4.0, \"A\" :4.0, \"A-\" :3.67, \"B+\" :3.33, \"B\" :3.0, \"B-\" :2.67,\n",
    "\"C+\" :2.33, \"C\" :2.0, \"C\" :1.67, \"D+\" :1.33, \"D\" :1.0, \"F\" :0.0}\n",
    "num_courses = 0\n",
    "total_points = 0\n",
    "done = False\n",
    "\n",
    "while not done:\n",
    "    grade = input()\n",
    "    if grade == '':\n",
    "        done = True\n",
    "    elif grade not in points:\n",
    "        print(\"Unknown grade '{0}' being ignored\".format(grade))\n",
    "    else:\n",
    "        num_courses += 1\n",
    "        total_points += points[grade]\n",
    "if num_courses > 0:\n",
    "    print('Your GPA is {0:.3}'.format(total_points / num_courses))"
   ]
  },
  {
   "cell_type": "markdown",
   "metadata": {},
   "source": [
    "## Python Built-In Classes\n",
    "\n",
    "Immutable data types: bool,int,float,tuple,str,frozenset\n",
    "\n",
    "Mutable data types: list, set, dict\n",
    "\n",
    "Bool - used to manipulate logical boolean values. *True* or *False*\n",
    "Int - \n",
    "List = [17]\n",
    "\n",
    "Tuple = (17.)"
   ]
  },
  {
   "cell_type": "code",
   "execution_count": null,
   "metadata": {},
   "outputs": [],
   "source": []
  }
 ],
 "metadata": {
  "kernelspec": {
   "display_name": "Python 3",
   "language": "python",
   "name": "python3"
  },
  "language_info": {
   "codemirror_mode": {
    "name": "ipython",
    "version": 3
   },
   "file_extension": ".py",
   "mimetype": "text/x-python",
   "name": "python",
   "nbconvert_exporter": "python",
   "pygments_lexer": "ipython3",
   "version": "3.7.5"
  }
 },
 "nbformat": 4,
 "nbformat_minor": 4
}
