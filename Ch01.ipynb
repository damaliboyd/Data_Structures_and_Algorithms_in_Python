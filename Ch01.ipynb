{
 "cells": [
  {
   "cell_type": "markdown",
   "metadata": {},
   "source": [
    "# **Problem Solving with Algorithms and Data Structures**\n",
    "### *Brad Miller, David Ranum*"
   ]
  },
  {
   "cell_type": "markdown",
   "metadata": {},
   "source": [
    "## 01. Introdutions\n",
    "Python Review\n",
    "\n",
    "*https://programmingwithmosh.com/python/python-3-cheat-sheet/*"
   ]
  },
  {
   "cell_type": "markdown",
   "metadata": {},
   "source": [
    "### Variables"
   ]
  },
  {
   "cell_type": "code",
   "execution_count": 108,
   "metadata": {},
   "outputs": [],
   "source": [
    "a = 1       # integer\n",
    "b = 1.1     # float\n",
    "c = 1 + 2j  # complex number (a + bi)\n",
    "d = \"a\"     # string\n",
    "e = True    # boolean (True / False)"
   ]
  },
  {
   "cell_type": "markdown",
   "metadata": {},
   "source": [
    "### Strings"
   ]
  },
  {
   "cell_type": "code",
   "execution_count": null,
   "metadata": {},
   "outputs": [],
   "source": [
    "x = \"Python\"\n",
    "print(\"Len of x: \" + str(len(x)))\n",
    "print(\"x[0]: \" + str(x[0]))\n",
    "print(\"x[-1]: \" + str(x[-1]))\n",
    "print(\"x[0:3]: \" + str(x[0:3]))\n",
    "\n",
    "first = \"Hello\"\n",
    "last = \"World\"\n",
    "\n",
    "# Formatted strings\n",
    "name = f\"{first} {last}\"\n",
    "print(name)\n",
    "\n",
    "# Escape Sequences\n",
    "# \\” \\’ \\\\ \\n\n",
    "\n",
    "# String Methods\n",
    "print( \"Upper: \" + x.upper() )\n",
    "print( \"Lower: \" + x.lower() )\n",
    "print( \"Title: \" + x.title() )\n",
    "print( \"Strip: \" + x.strip(\"P\") )\n",
    "print( \"Find: \" + str(x.find(\"n\") ))\n",
    "print( \"Replace: \" + x.replace(\"n\",\"B\") )\n",
    "print(\"\\\"a\\\" in x: \" + str(\"a\" in x))"
   ]
  },
  {
   "cell_type": "markdown",
   "metadata": {},
   "source": [
    "### Type Conversion"
   ]
  },
  {
   "cell_type": "code",
   "execution_count": null,
   "metadata": {},
   "outputs": [],
   "source": [
    "# int(x)  \n",
    "# float(x) \n",
    "# bool(x) \n",
    "# string(x)"
   ]
  },
  {
   "cell_type": "markdown",
   "metadata": {},
   "source": [
    "### Falsy Values"
   ]
  },
  {
   "cell_type": "code",
   "execution_count": null,
   "metadata": {},
   "outputs": [],
   "source": [
    "# 0\n",
    "# “”\n",
    "# []"
   ]
  },
  {
   "cell_type": "markdown",
   "metadata": {},
   "source": [
    "### Conditional Statements"
   ]
  },
  {
   "cell_type": "code",
   "execution_count": 47,
   "metadata": {},
   "outputs": [
    {
     "name": "stdout",
     "output_type": "stream",
     "text": [
      "c\n",
      "a\n",
      "Can not retire\n",
      "G\n",
      "o\n",
      "o\n",
      "d\n",
      "G\n",
      "o\n",
      "o\n",
      "d\n",
      "7\n",
      "8\n",
      "9\n",
      "13\n",
      "1\n",
      "2\n",
      "3\n"
     ]
    }
   ],
   "source": [
    "n = 7\n",
    "\n",
    "if x == 1:\n",
    "    print(\"a\")\n",
    "elif x == 2:\n",
    "    print(\"b\")\n",
    "else:\n",
    "    print(\"c\")\n",
    "    \n",
    "# Ternary Operator\n",
    "x = \"a\" if n > 1 else \"b\"\n",
    "print(x)\n",
    "\n",
    "age = 22\n",
    "# Chaining comparison operators\n",
    "if 18 <= age < 65:\n",
    "    print(\"Can not retire\")"
   ]
  },
  {
   "cell_type": "markdown",
   "metadata": {},
   "source": [
    "### Loops"
   ]
  },
  {
   "cell_type": "code",
   "execution_count": null,
   "metadata": {},
   "outputs": [],
   "source": [
    "word = \"Good\"\n",
    "for letter in word:\n",
    "    print(letter)\n",
    "    \n",
    "for index in range(len(word)):\n",
    "    print(word[index])\n",
    "    \n",
    "while n < 10:\n",
    "    print(n)\n",
    "    n += 1"
   ]
  },
  {
   "cell_type": "markdown",
   "metadata": {},
   "source": [
    "### Functions"
   ]
  },
  {
   "cell_type": "code",
   "execution_count": null,
   "metadata": {},
   "outputs": [],
   "source": [
    "def increment(num, by=1):\n",
    "    return num + by\n",
    "\n",
    "print(increment(2,by=11))\n",
    "\n",
    "# variable number of arguements\n",
    "def multiply(*numbers):\n",
    "    for number in numbers:\n",
    "        print(number)\n",
    "\n",
    "multiply(1,2,3)\n",
    "\n",
    "def save_user(**user):\n",
    "    pass\n",
    "\n",
    "save_user(id=1, name=\"Mosh\")\n"
   ]
  },
  {
   "cell_type": "markdown",
   "metadata": {},
   "source": [
    "### Lists"
   ]
  },
  {
   "cell_type": "code",
   "execution_count": 84,
   "metadata": {},
   "outputs": [
    {
     "name": "stdout",
     "output_type": "stream",
     "text": [
      "a\n",
      "f\n",
      "['a', 'b', 'c']\n",
      "['a', 'b', 'c']\n",
      "['c', 'd', 'e', 'f']\n",
      "['a', 'b', 'c', 'd', 'e', 'f']\n",
      "['a', 'c', 'e']\n",
      "['f', 'e', 'd', 'c', 'b', 'a']\n",
      "a\n",
      "b\n",
      "['c', 'd', 'e', 'f']\n",
      "0:a\n",
      "1:b\n",
      "2:c\n",
      "3:d\n",
      "4:e\n",
      "5:f\n",
      "['a', 'b', 'c', 'd', 'e', 'f', 'g']\n",
      "['a', 'b', 'c', 'd', 'e', 'f', 'g', 'h']\n",
      "['a', 'b', 'c', 'd', 'e', 'f', 'g']\n",
      "['b', 'c', 'd', 'e', 'f', 'g']\n",
      "['c', 'd', 'e', 'f', 'g']\n",
      "['f', 'g']\n",
      "0\n",
      "[('Products2', 9), ('Products1', 10), ('Products3', 11)]\n",
      "[9, 10, 11]\n",
      "[('Products1', 10), ('Products3', 11)]\n",
      "[0, 1, 4, 9, 16, 25, 36, 49, 64, 81]\n",
      "[['water', 'ham'], ['water', 'eggs'], ['water', 'spam'], ['tea', 'ham'], ['tea', 'eggs'], ['tea', 'spam'], ['juice', 'ham'], ['juice', 'eggs'], ['juice', 'spam']]\n"
     ]
    }
   ],
   "source": [
    "letters = [\"a\", \"b\", \"c\"]\n",
    "matrix = [[0,1],[1,2]]\n",
    "zeros = [0] * 5\n",
    "combined = zeros + letters\n",
    "numbers = list(range(20))\n",
    "\n",
    "# Acessing Itemd\n",
    "letters = [\"a\", \"b\", \"c\", \"d\",\"e\",\"f\"]\n",
    "print(letters[0])\n",
    "print(letters[-1])\n",
    "\n",
    "# Slicing Letters\n",
    "print(letters[0:3])\n",
    "print(letters[:3])\n",
    "print(letters[2:])\n",
    "print(letters[:])\n",
    "print(letters[::2]) #Skips 2\n",
    "print(letters[::-1])\n",
    "\n",
    "# Unpacking\n",
    "first, second, *others = letters\n",
    "\n",
    "print(first)\n",
    "print(second)\n",
    "print(others)\n",
    "\n",
    "# Looping\n",
    "for letter in letters:\n",
    "    pass\n",
    "\n",
    "for index, letter in enumerate(letters):\n",
    "    print(str(index) + \":\" +letter)\n",
    "    \n",
    "# Adding Items\n",
    "letters.append(\"g\")\n",
    "print(letters)\n",
    "letters.insert(7,\"h\")\n",
    "print(letters)\n",
    "\n",
    "# Removing Items\n",
    "letters.pop()\n",
    "print(letters)\n",
    "\n",
    "letters.pop(0)\n",
    "print(letters)\n",
    "\n",
    "letters.remove(\"b\")\n",
    "print(letters)\n",
    "\n",
    "del letters[0:3]\n",
    "print(letters)\n",
    "\n",
    "# Finding items\n",
    "if \"f\" in letters:\n",
    "    print(letters.index(\"f\"))\n",
    "    \n",
    "# Sorting Lists\n",
    "letters.sort()\n",
    "letters.sort(reverse=True)\n",
    "\n",
    "# Custom Sorting\n",
    "items = [\n",
    "    (\"Products1\", 10),\n",
    "    (\"Products2\", 9),\n",
    "    (\"Products3\", 11),\n",
    "]\n",
    "\n",
    "items.sort(key=lambda item: item[1])\n",
    "print(items)\n",
    "\n",
    "## Map and Filter\n",
    "# map() function applies a function to every member of an iterable and returns the result.\n",
    "prices = list(map(lambda item:item[1], items))\n",
    "print(prices)\n",
    "#\n",
    "expensive_items = list(filter(lambda item:item[1] >=10, items))\n",
    "print(expensive_items)\n",
    "\n",
    "# List Comprehensions\n",
    "# https://programmingwithmosh.com/python/python-3-cheat-sheet/\n",
    "\n",
    "# [ expression-involving-loop-variable for loop-variable in sequence ]\n",
    "squares = [ x**2 for x in range(10) ]\n",
    "print(squares)\n",
    "\n",
    "# [ expression-involving-loop-variables for outer-loop-variable in outer-sequence for inner-loop-variable in inner-sequence ]\n",
    "possible_choices = [ [drink,food] for drink in ['water', 'tea', 'juice'] for food in ['ham', 'eggs', 'spam'] ]\n",
    "print(possible_choices)\n",
    "# [ expression-involving-loop-variable for loop-variable in sequence if boolean-expression-involving-loop-variable ]\n",
    "special_squares = [ x**2 for x in range(10) if x**2 > 5 and x**2 < 50 ]\n",
    "\n",
    "prices = [item[1] for item in items]\n",
    "expensive_items = [item for item in items if item[1] >= 10]\n",
    "\n",
    "# Zip Function\n",
    "list1 = [1,2,3]\n",
    "list2 = [10,20,30]\n",
    "combined1 = list(zip(list1,list2))"
   ]
  },
  {
   "cell_type": "markdown",
   "metadata": {},
   "source": [
    "### Tuples"
   ]
  },
  {
   "cell_type": "code",
   "execution_count": 117,
   "metadata": {},
   "outputs": [
    {
     "name": "stdout",
     "output_type": "stream",
     "text": [
      "(1, 2)\n"
     ]
    }
   ],
   "source": [
    "# Tuples\n",
    "point = (1,2,3)\n",
    "print(point[0:2])\n",
    "x,y,z = point\n",
    "\n",
    "if 10 in point:\n",
    "    pass\n",
    "\n",
    "x =  10\n",
    "y = 11\n",
    "x,y = y,x"
   ]
  },
  {
   "cell_type": "markdown",
   "metadata": {},
   "source": [
    "### Arrays"
   ]
  },
  {
   "cell_type": "code",
   "execution_count": null,
   "metadata": {},
   "outputs": [],
   "source": [
    "from array import array\n",
    "numbers = array(\"i\", [1,2,3])\n",
    "print(numbers)"
   ]
  },
  {
   "cell_type": "markdown",
   "metadata": {},
   "source": [
    "### Sets"
   ]
  },
  {
   "cell_type": "code",
   "execution_count": null,
   "metadata": {},
   "outputs": [],
   "source": [
    "first = {1,2,3,4}\n",
    "second = {1,5}\n",
    "\n",
    "print(first | second)\n",
    "print(first & second)\n",
    "print(first - second)\n",
    "print(first ^ second)\n",
    "\n",
    "if 1 in first:\n",
    "    pass\n"
   ]
  },
  {
   "cell_type": "markdown",
   "metadata": {},
   "source": [
    "### Dictionaries"
   ]
  },
  {
   "cell_type": "code",
   "execution_count": null,
   "metadata": {},
   "outputs": [],
   "source": [
    "# Dictionaries\n",
    "point = {\"x\":1, \"y\":2}\n",
    "point = dict(x=1,y=2)\n",
    "point[\"z\"] = 3\n",
    "\n",
    "if \"a\" in point:\n",
    "    pass\n",
    "\n",
    "values = {x: x ** 2 for x in range(5)}\n",
    "print(values)"
   ]
  },
  {
   "cell_type": "markdown",
   "metadata": {},
   "source": [
    "### Generator Expressions"
   ]
  },
  {
   "cell_type": "code",
   "execution_count": null,
   "metadata": {},
   "outputs": [],
   "source": [
    "# Generator Expressions\n",
    "values = (x*2 for x in range(5))\n",
    "# Will give error\n",
    "# len(values)\n",
    "for x in values:\n",
    "    pass"
   ]
  },
  {
   "cell_type": "markdown",
   "metadata": {},
   "source": [
    "### Unpacking Operator"
   ]
  },
  {
   "cell_type": "code",
   "execution_count": 107,
   "metadata": {},
   "outputs": [
    {
     "name": "stdout",
     "output_type": "stream",
     "text": [
      "[1, 2, 3, 'a', 4, 5, 6]\n",
      "{'y', 'D', 'x'}\n"
     ]
    }
   ],
   "source": [
    "# Unpacking Operator\n",
    "first = [1,2,3]\n",
    "second = [4,5,6]\n",
    "combined = [*first, \"a\", *second]\n",
    "print(combined)\n",
    "\n",
    "first = {\"x\":1}\n",
    "second = {\"y\":2}\n",
    "combined = {*first,\"D\", *second}\n",
    "print(combined)"
   ]
  },
  {
   "cell_type": "markdown",
   "metadata": {},
   "source": [
    "### Exceptions"
   ]
  },
  {
   "cell_type": "code",
   "execution_count": 123,
   "metadata": {},
   "outputs": [],
   "source": [
    "# Handling Exceptions\n",
    "try:\n",
    "    pass\n",
    "except (ValueError, ZeroDivisionError):\n",
    "    pass\n",
    "else:\n",
    "    pass\n",
    "finally:\n",
    "    pass\n",
    "\n",
    "# Raising Exceptions\n",
    "if x < 1:\n",
    "    raise ValueError(\"...\")\n",
    "    \n",
    "# The with Statement\n",
    "with open(\"file.txt\") as file:\n",
    "    pass"
   ]
  },
  {
   "cell_type": "markdown",
   "metadata": {},
   "source": [
    "### Classes"
   ]
  },
  {
   "cell_type": "code",
   "execution_count": null,
   "metadata": {},
   "outputs": [],
   "source": [
    "# Creating classes\n",
    "class Point: \n",
    "    def __init__(self, x, y):       \n",
    "        self.x = x\n",
    "        self.y = y \n",
    " \n",
    "    def draw(self):    \n",
    "        pass\n",
    " \n",
    "# Instance vs class attributes\n",
    "class Point: \n",
    "    default_color = “red”\n",
    " \n",
    "    def __init__(self, x, y):        \n",
    "        self.x = x\n",
    " \n",
    "# Instance vs class methods\n",
    "class Point: \n",
    "    def draw(self):       \n",
    "        pass\n",
    "     \n",
    "    @classmethod\n",
    "    def zero(cls):       \n",
    "        return cls(0, 0)\n",
    " \n",
    " \n",
    "# Magic methods\n",
    "__str__()\n",
    "__eq__()\n",
    "__cmp__()\n",
    "pass \n",
    " \n",
    "# Private members \n",
    "class Point: \n",
    "    def __init__(self, x):     \n",
    "        self.__x = x\n",
    " \n",
    " \n",
    "# Properties \n",
    "class Point: \n",
    "    def __init__(self, x):       \n",
    "        self.__x = x\n",
    " \n",
    "    @property\n",
    "    def x(self):    \n",
    "        return self.__x     \n",
    " \n",
    "    @property.setter:\n",
    "    def x.setter(self, value): \n",
    "        self.__x = value\n",
    " \n",
    "# Inheritance\n",
    "class FileStream(Stream): \n",
    "    def open(self):       \n",
    "        super().open()\n",
    "        pass\n",
    " \n",
    "# Multiple inheritance \n",
    "class FlyingFish(Flyer, Swimmer): \n",
    "    pass\n",
    " \n",
    "# Abstract base classes\n",
    "from abc import ABC, abstractmethod\n",
    " \n",
    "class Stream(ABC): \n",
    "    @abstractmethod\n",
    "    def read(self): \n",
    "        pass \n",
    " \n",
    "# Named tuples \n",
    "from collections import namedtuple\n",
    " \n",
    "Point = namedtuple(“Point”, [“x”, “y”])\n",
    "point = Point(x=1, y=2)"
   ]
  },
  {
   "cell_type": "markdown",
   "metadata": {},
   "source": [
    "## 02. Algorithms"
   ]
  },
  {
   "cell_type": "markdown",
   "metadata": {},
   "source": [
    "## 03. Basic Data Structures"
   ]
  },
  {
   "cell_type": "markdown",
   "metadata": {},
   "source": [
    "## 04. Recursion"
   ]
  },
  {
   "cell_type": "markdown",
   "metadata": {},
   "source": [
    "## 05. Sorting and Searching"
   ]
  },
  {
   "cell_type": "markdown",
   "metadata": {},
   "source": [
    "## 06. Trees and Tree Algorithms"
   ]
  },
  {
   "cell_type": "markdown",
   "metadata": {},
   "source": [
    "## 07.JSON"
   ]
  }
 ],
 "metadata": {
  "kernelspec": {
   "display_name": "Python 3",
   "language": "python",
   "name": "python3"
  },
  "language_info": {
   "codemirror_mode": {
    "name": "ipython",
    "version": 3
   },
   "file_extension": ".py",
   "mimetype": "text/x-python",
   "name": "python",
   "nbconvert_exporter": "python",
   "pygments_lexer": "ipython3",
   "version": "3.7.5"
  }
 },
 "nbformat": 4,
 "nbformat_minor": 4
}
