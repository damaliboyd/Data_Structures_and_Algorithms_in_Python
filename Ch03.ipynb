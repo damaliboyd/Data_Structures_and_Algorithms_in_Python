{
 "cells": [
  {
   "cell_type": "markdown",
   "metadata": {},
   "source": [
    "# Chapter 3: Basic Data Structures"
   ]
  },
  {
   "cell_type": "markdown",
   "metadata": {},
   "source": [
    "## Stack\n",
    "\n",
    "Stack is an ordered collextion of tiems wheret he addition of new itmes and removal of existing items always take place at the same end. LIFO, last in first out.\n",
    "\n",
    "Stack Operations\n",
    "* Stack() - creates/returns an empty stack\n",
    "* push(item) - adds new item to the top of the stack\n",
    "* pop() - removes the top item from the stack\n",
    "* peek() - returns the top of the stack\n",
    "* is_empty() - tests to see wether the stack is empty\n",
    "* size() - returns the number of items in the stack"
   ]
  },
  {
   "cell_type": "code",
   "execution_count": 19,
   "metadata": {},
   "outputs": [],
   "source": [
    "# Complete Stack Implementation of a Stack ADT\n",
    "# It is possible to implement where top is at the beginning\n",
    "\n",
    "class Stack:\n",
    "    def __init__(self):\n",
    "        self.items = []\n",
    "    \n",
    "    def is_empty(self):\n",
    "        return self.items == []\n",
    "    \n",
    "    def push(self,item):\n",
    "        self.items.append(item)\n",
    "    \n",
    "    def pop(self):\n",
    "        return self.items.pop()\n",
    "        \n",
    "#     If top is beginning\n",
    "\n",
    "#     def push(self,item):\n",
    "#         self.items.insert(0,item)\n",
    "    \n",
    "#     def pop(self):\n",
    "#         self.items.pop(0)\n",
    "    \n",
    "    def peek(self):\n",
    "        return self.items[-1]\n",
    "    \n",
    "    def size(self):\n",
    "        return len(self.items)\n",
    "    "
   ]
  },
  {
   "cell_type": "code",
   "execution_count": 20,
   "metadata": {},
   "outputs": [
    {
     "name": "stdout",
     "output_type": "stream",
     "text": [
      "True\n",
      "Cats Are Better\n",
      "3\n",
      "False\n",
      "8.4\n",
      "3\n"
     ]
    }
   ],
   "source": [
    "s = Stack()\n",
    "\n",
    "print(s.is_empty())\n",
    "s.push(\"Hello\")\n",
    "s.push(\"Puppy\")\n",
    "s.pop()\n",
    "s.push(\"Cats Are Better\")\n",
    "print(s.peek())\n",
    "s.push(True)\n",
    "print(s.size())\n",
    "print(s.is_empty())\n",
    "s.push(8.4)\n",
    "print(s.pop())\n",
    "print(s.size())"
   ]
  },
  {
   "cell_type": "code",
   "execution_count": 21,
   "metadata": {},
   "outputs": [
    {
     "name": "stdout",
     "output_type": "stream",
     "text": [
      "True\n",
      "False\n",
      "True\n",
      "False\n"
     ]
    }
   ],
   "source": [
    "# Checking if Balanced parenthesis\n",
    "def matches(open,close):\n",
    "    opens = \"({[\"\n",
    "    closes = \")}]\"\n",
    "    return opens.index(open) == closes.index(close)\n",
    "\n",
    "def paren_checker(symbols):\n",
    "    s = Stack()\n",
    "    balanced = True\n",
    "    index = 0\n",
    "    \n",
    "    while index < len(symbols) and balanced:\n",
    "        symbol = symbols[index]\n",
    "        \n",
    "        if symbol in \"([{\":\n",
    "            s.push(symbol)\n",
    "        else: \n",
    "            if s.is_empty():\n",
    "                balanced = False\n",
    "            else:\n",
    "                top = s.pop()\n",
    "                if not matches(top,symbol):\n",
    "                    balanced = False\n",
    "        index = index + 1\n",
    "    \n",
    "    if balanced and s.is_empty():\n",
    "        return True\n",
    "    else:\n",
    "        return False\n",
    "\n",
    "print(paren_checker('{{([][])}()}'))\n",
    "print(paren_checker('[{()]'))\n",
    "print(paren_checker('((()))'))\n",
    "print(paren_checker('(()'))"
   ]
  },
  {
   "cell_type": "code",
   "execution_count": 27,
   "metadata": {},
   "outputs": [
    {
     "name": "stdout",
     "output_type": "stream",
     "text": [
      "101010\n",
      "11\n",
      "111111\n"
     ]
    }
   ],
   "source": [
    "# Implmentation of Integer to Binary\n",
    "\n",
    "def divide_by_2(decimal_num):\n",
    "    remainders = Stack()\n",
    "    \n",
    "    while decimal_num > 0:\n",
    "        rem = decimal_num % 2\n",
    "        remainders.push(rem)\n",
    "        decimal_num = decimal_num // 2\n",
    "        \n",
    "    binary = \"\"\n",
    "    while not remainders.is_empty():\n",
    "        binary = binary + str(remainders.pop())\n",
    "    \n",
    "    return binary\n",
    "\n",
    "print(divide_by_2(42))\n",
    "print(divide_by_2(3))\n",
    "print(divide_by_2(64))"
   ]
  },
  {
   "cell_type": "code",
   "execution_count": 36,
   "metadata": {},
   "outputs": [
    {
     "name": "stdout",
     "output_type": "stream",
     "text": [
      "11001\n",
      "19\n",
      "9E1\n"
     ]
    }
   ],
   "source": [
    "def base_converter(decimal_num, base):\n",
    "    digits = \"0123456789ABCEDEF\"\n",
    "    remainders = Stack()\n",
    "    \n",
    "    while decimal_num > 0:\n",
    "        rem = decimal_num % base\n",
    "        remainders.push(rem)\n",
    "        decimal_num = decimal_num // base\n",
    "        \n",
    "    converted = \"\"\n",
    "    while not remainders.is_empty():\n",
    "        converted = converted + digits[remainders.pop()]\n",
    "    \n",
    "    return converted\n",
    "\n",
    "print(base_converter(25, 2))\n",
    "print(base_converter(25, 16))\n",
    "print(base_converter(2545, 16))"
   ]
  },
  {
   "cell_type": "markdown",
   "metadata": {},
   "source": [
    "## Queues\n",
    "\n",
    "A queue is an ordered collection of items where the additin of new items happen zt one end, the rear, and the removal of existing items occur at the other end, the front. FIFO, first come first serve.\n",
    "\n",
    "Queue operations:\n",
    "* Queue() - creates a new empty queue\n",
    "* enqueue(item) - adds new item to rear of queue\n",
    "* dequeue - remove the front item from the queue\n",
    "* is_empty() - checks if queue is empty\n",
    "* size() - returns size of queue"
   ]
  },
  {
   "cell_type": "code",
   "execution_count": 41,
   "metadata": {},
   "outputs": [],
   "source": [
    "class Queue:\n",
    "    def __init__(self):\n",
    "        self.items = []\n",
    "        \n",
    "    def enqueue(self,item):\n",
    "        self.items.insert(0, item)\n",
    "            \n",
    "    def dequeue(self):\n",
    "        return self.items.pop()\n",
    "    \n",
    "    def is_empty(self):\n",
    "        return self.items == []\n",
    "    \n",
    "    def size(self):\n",
    "        return len(self.items)\n",
    "    "
   ]
  },
  {
   "cell_type": "code",
   "execution_count": 47,
   "metadata": {},
   "outputs": [
    {
     "name": "stdout",
     "output_type": "stream",
     "text": [
      "Jane\n"
     ]
    }
   ],
   "source": [
    "# Hot potato problem\n",
    "\n",
    "def hot_potato(names, num):\n",
    "    sim_queue = Queue()\n",
    "    for name in names:\n",
    "        sim_queue.enqueue(name)\n",
    "    \n",
    "    while sim_queue.size() > 1:\n",
    "        for i in range(num):\n",
    "            sim_queue.enqueue(sim_queue.dequeue())\n",
    "        \n",
    "        sim_queue.dequeue()\n",
    "        \n",
    "    return sim_queue.dequeue()\n",
    "\n",
    "print(hot_potato([\"Bill\", \"Greg\",\"David\", \"Susan\", \"Julie\",\"Jane\", \"Kent\",\n",
    "\"Brad\"], 7))"
   ]
  },
  {
   "cell_type": "code",
   "execution_count": null,
   "metadata": {},
   "outputs": [],
   "source": [
    "import random\n",
    "\n",
    "# printer simulation\n",
    "\n",
    "class Printer:\n",
    "    def __init__(self,ppm):\n",
    "        self.page_rate = ppm\n",
    "        self.current_task  None\n",
    "        self.time_remaing = 0\n",
    "        \n",
    "    def tick(self):\n",
    "        if self.current_task != None:\n",
    "            self.time_remaining = self.time_remaining - 1\n",
    "            if self.time_remaining <= 0:\n",
    "                self.current_task = None\n",
    "    def busy(self):\n",
    "        if self.current_task != None:\n",
    "            return True\n",
    "        else:\n",
    "            return False\n",
    "        \n",
    "    def start_next(self, new_task):\n",
    "        self.current_task = new_task\n",
    "        self.time_remaining = new_task.get_pages() * 60/self.page_rate\n",
    "        \n",
    "class Task:\n",
    "    def __init__(self,time):\n",
    "        self.timestap = time\n",
    "        self.pages = random.randrange(1,21)\n",
    "    \n",
    "    def get_stamp(self):\n",
    "        return self.timestamp = time\n",
    "    \n",
    "    def get_pages(self):\n",
    "        return self.pages\n",
    "    \n",
    "    def wait_time(self, current_time):\n",
    "        return current_time - self.timestamp\n",
    "    \n",
    "def simulation(num_seconds, pages_per_minute):\n",
    "    lab_printer = Printer(pages_per_mintutes)\n",
    "    print_queue = Queue()\n",
    "    waiting_times = []\n",
    "    \n",
    "    for current_second in range(num_seconds):\n",
    "        if new_print_task():\n",
    "            task = Task(current_second)\n",
    "            print_queue.enqueue(task)\n",
    "            \n",
    "        if (not lab_printer.busy()) and (not print_queue.is_empty()):\n",
    "            next_task\n",
    "        "
   ]
  }
 ],
 "metadata": {
  "kernelspec": {
   "display_name": "Python 3",
   "language": "python",
   "name": "python3"
  },
  "language_info": {
   "codemirror_mode": {
    "name": "ipython",
    "version": 3
   },
   "file_extension": ".py",
   "mimetype": "text/x-python",
   "name": "python",
   "nbconvert_exporter": "python",
   "pygments_lexer": "ipython3",
   "version": "3.7.5"
  }
 },
 "nbformat": 4,
 "nbformat_minor": 4
}
